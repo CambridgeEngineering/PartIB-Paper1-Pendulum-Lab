{
  "cells": [
    {
      "metadata": {},
      "cell_type": "markdown",
      "source": "## IB Mechanics\n# Double Pendulum Lab\n\n\n![DoublePendulumDiagram.png](attachment:DoublePendulumDiagram.png)\n\n$a$ = arm 1 length [m]<br>\n$b$ = arm 2 length [m]<br>\n$m_a$ = mass of arm 1 [kg]<br>\n$m_b$ = mass of arm 2 [kg]<br>\n$m_p$ = mass of the pivot between the arms [kg]\n\n\nThe double pendulum in the experiment has the following equations for potential energy, $V$, and kinetic energy, $T$:\n\\begin{align*}\nV &= -gm_a\\frac{a}{2}cos\\alpha - g m_p a cos\\alpha - g m_b\\left(a cos\\alpha + \\frac{b}{2}cos\\beta\\right) &\\\\\n\\\\\nT &= \\frac{1}{2}m_a\\left(\\dot{\\alpha}\\frac{a}{2}\\right)^2 + \\frac{1}{2}\\left(\\frac{m_a a^2}{12}\\right)\\left(\\dot{\\alpha}^2\\right) &[\\text{arm 1}]\\\\\n&+\\frac{1}{2}m_b\\left[(\\dot{\\alpha a})^2 + \\left(\\dot{\\beta}\\frac{b}{2}\\right)^2 + 2\\dot{\\alpha} a \\dot{\\beta} \\frac{b}{2} cos(\\alpha - \\beta)\\right] + \\frac{1}{2} \\left(\\frac{m_b b^2}{12}\\right)\\dot{\\beta}^2 &[\\text{arm 2}]\\\\\n&+\\frac{1}{2} m_p \\left(\\dot{\\alpha} a\\right)^2 &[\\text{pivot mass}]\n\\end{align*}\n\nUsing Lagrange's equations, the equations of free motion for the pendulum can be found:\n\nLagrange in $\\alpha$:    \n$\\left(\\frac{1}{3}m_a+m_b+m_p\\right)a^2\\ddot{\\alpha} + \\frac{1}{2}abcos(\\alpha-\\beta)m_b\\ddot{\\beta} + \\frac{1}{2}m_bab\\dot{\\beta}^2sin(\\alpha-\\beta) + \\left(\\frac{1}{2}m_a+m_b+m_p\\right)asin(\\alpha) = 0$ \n\nLagrange in $\\beta$:    \n$\\frac{1}{3}m_bb^2\\ddot{\\beta} + \\frac{1}{2}m_babcos(\\alpha-\\beta)\\ddot{\\alpha} - \\frac{1}{2}m_bab\\dot{\\alpha}^2sin(\\alpha-\\beta) + \\frac{1}{2}m_bbsin\\beta = 0$ \n\nIf angles $\\alpha$ and $\\beta$ are small, this equation can be linearised, and put into vector form:\n\n$M = \\begin{bmatrix} \\left(\\frac{1}{3}m_a+m_b+m_p\\right)a^2 & \\frac{1}{2}m_bab \\\\ \\frac{1}{2}m_bab & \\frac{1}{3}m_bb^2 \\end{bmatrix}$\n\n$K = \\begin{bmatrix} \\left(\\frac{1}{2}m_a+m_b+m_p\\right)ga & 0 \\\\ 0 & \\frac{1}{2}m_bgb \\end{bmatrix}$\n\n$M \\begin{bmatrix} \\ddot{\\alpha} \\\\ \\ddot{\\beta} \\end{bmatrix} + K \\begin{bmatrix} \\alpha \\\\ \\beta \\end{bmatrix} = \\begin{bmatrix} 0 \\\\ 0 \\end{bmatrix}$\n\nAssuming harmonic oscillation, where $\\alpha$ and $\\beta$ are sinusoidal, this gives the following solution:\n\n$K q = \\omega^2 M q \\;\\;\\;$ with $q = \\begin{bmatrix} \\alpha \\\\ \\beta \\end{bmatrix}$\n\nThis form is known as a generalised eigenvalue problem and there exist algorithms to easily solve for $\\omega^2$ and $q$ without having to invert the matrix M and move it to the other side of the equation. In matlab, the command is <span style = \"font-family:Courier,monospace\">eig(K, M)</span>. A similar function exsists in the python library scipy (<span style = \"font-family:Courier,monospace\">scipy.linalg.eig()</span>), and is used below.\n",
      "attachments": {
        "DoublePendulumDiagram.png": {
          "image/png": "[encoded data removed]"
        }
      }
    },
    {
      "metadata": {
        "trusted": true
      },
      "cell_type": "code",
      "source": "import numpy as np\nfrom scipy import linalg\n\n#values for the pendulum used in the lab. All units are SI\na = 0.185\nb = 0.172\nma = 0.044\nmb = 0.019\nmp = 0.022\ng = 9.81\n\nM = np.array([[ (1/3*ma+mb+mp)*a**2 , 0.5*mb*a*b ],\n              [ 0.5*mb*a*b          , 1/3*mb*b**2]])\n\nK = np.array([[ (0.5*ma+mb+mp)*g*a , 0         ],\n              [ 0                  , 0.5*mb*g*b]])\n\neigenvalues, eigenvector = linalg.eig(K, M)\n\nprint('eigenvalues = {}\\n'.format(eigenvalues))\nprint('eigenvector = \\n{}'.format(eigenvector))",
      "execution_count": 2,
      "outputs": [
        {
          "output_type": "stream",
          "text": "eigenvalues = [ 46.16314399+0.j 149.48551984+0.j]\n\neigenvector = \n[[-0.46751202 -0.25623919]\n [-0.88398672  0.96661341]]\n",
          "name": "stdout"
        }
      ]
    },
    {
      "metadata": {},
      "cell_type": "markdown",
      "source": "The square roots of the eigenvalues give the natural frequencies of the two modes:"
    },
    {
      "metadata": {
        "trusted": true
      },
      "cell_type": "code",
      "source": "frequencies = np.real(np.sqrt(eigenvalues))\n\nprint('Natural frequencies are: {} [rad/s]'.format(str(frequencies)))",
      "execution_count": 3,
      "outputs": [
        {
          "output_type": "stream",
          "text": "Natural frequencies are: [ 6.79434647 12.22642711] [rad/s]\n",
          "name": "stdout"
        }
      ]
    },
    {
      "metadata": {},
      "cell_type": "markdown",
      "source": "The normalised modeshapes ($\\alpha, \\beta$) are given by the eigenvectors:"
    },
    {
      "metadata": {
        "trusted": true
      },
      "cell_type": "code",
      "source": "mode1 = (eigenvector[0][0], eigenvector[1][0])\nmode2 = (eigenvector[0][1], eigenvector[1][1])\n\nprint('mode 1 is {}'.format(str(mode1)))\nprint('mode 2 is {}'.format(str(mode2)))",
      "execution_count": 4,
      "outputs": [
        {
          "output_type": "stream",
          "text": "mode 1 is (-0.4675120151278918, -0.8839867169313451)\nmode 2 is (-0.25623918903682247, 0.9666134066946058)\n",
          "name": "stdout"
        }
      ]
    },
    {
      "metadata": {
        "trusted": true
      },
      "cell_type": "code",
      "source": "",
      "execution_count": null,
      "outputs": []
    }
  ],
  "metadata": {
    "kernelspec": {
      "name": "python3",
      "display_name": "Python 3",
      "language": "python"
    },
    "language_info": {
      "mimetype": "text/x-python",
      "nbconvert_exporter": "python",
      "name": "python",
      "pygments_lexer": "ipython3",
      "version": "3.5.4",
      "file_extension": ".py",
      "codemirror_mode": {
        "version": 3,
        "name": "ipython"
      }
    }
  },
  "nbformat": 4,
  "nbformat_minor": 1
}